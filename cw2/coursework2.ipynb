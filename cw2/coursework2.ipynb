{
 "cells": [
  {
   "cell_type": "code",
   "execution_count": 10,
   "metadata": {},
   "outputs": [],
   "source": [
    "\"\"\"\n",
    "In order to run the code as is, you will need scipy, pandas and tqdm installed \n",
    "(although tqdm is only needed for the progress bar, and pandas is only for the autocorrelation function)\n",
    "All of these can be installed (on linux) from the command interface using 'pip'\n",
    "\"\"\" \n",
    "\n",
    "import scipy.io as sio\n",
    "import numpy as np\n",
    "import matplotlib.pyplot as plt\n",
    "from gibbsrank import gibbs_sample\n",
    "from eprank import eprank\n",
    "import pandas\n",
    "from cw2 import sorted_barplot"
   ]
  },
  {
   "cell_type": "markdown",
   "metadata": {},
   "source": [
    "We first need to load the data, stored in \"tennis_data.mat\". The data consists of an array, $W$ containing the names of each player, and an array, G, containing the results of all of the matches in the season. "
   ]
  },
  {
   "cell_type": "code",
   "execution_count": 11,
   "metadata": {},
   "outputs": [],
   "source": [
    "# set seed for reproducibility\n",
    "np.random.seed(0)\n",
    "# load data\n",
    "data = sio.loadmat('data/tennis_data.mat')\n",
    "# Array containing the names of each player\n",
    "W = data['W']\n",
    "# loop over array to format more nicely\n",
    "for i, player in enumerate(W):\n",
    "    W[i] = player[0]\n",
    "# Array of size num_games x 2. The first entry in each row is the winner of game i, the second is the loser\n",
    "G = data['G'] - 1\n",
    "# Number of players\n",
    "M = W.shape[0]\n",
    "# Number of Games\n",
    "N = G.shape[0]"
   ]
  },
  {
   "cell_type": "markdown",
   "metadata": {},
   "source": [
    "# Gibbs sampling (This may take a minute)"
   ]
  },
  {
   "cell_type": "code",
   "execution_count": 12,
   "metadata": {
    "scrolled": true
   },
   "outputs": [
    {
     "name": "stderr",
     "output_type": "stream",
     "text": [
      "100%|██████████| 1100/1100 [00:11<00:00, 94.40it/s] \n"
     ]
    }
   ],
   "source": [
    "# number of iterations\n",
    "num_iters = 1100\n",
    "# perform gibbs sampling, skill samples is an num_players x num_samples array\n",
    "skill_samples = gibbs_sample(G, M, num_iters)#, random_nums)\n"
   ]
  },
  {
   "cell_type": "code",
   "execution_count": 7,
   "metadata": {},
   "outputs": [
    {
     "data": {
      "text/plain": [
       "(107, 1100)"
      ]
     },
     "execution_count": 7,
     "metadata": {},
     "output_type": "execute_result"
    }
   ],
   "source": [
    "skill_samples.shape"
   ]
  },
  {
   "cell_type": "code",
   "execution_count": null,
   "metadata": {},
   "outputs": [],
   "source": [
    "skills = np.mean(skill_samples[:, 100:], axis=1)\n",
    "\n",
    "top_10_indices = np.argsort(skills)[-10:][::-1]\n",
    "\n",
    "# Get corresponding skills and names\n",
    "top_10_skills = skills[top_10_indices]\n",
    "top_10_names = W[top_10_indices]\n",
    "\n",
    "# Create bar chart\n",
    "plt.figure(figsize=(12, 6))\n",
    "bars = plt.bar(range(10), top_10_skills)\n",
    "\n",
    "# Customize the plot\n",
    "plt.title('Top 10 Most Skilled Players')\n",
    "plt.xlabel('Players')\n",
    "plt.ylabel('Skill Level')\n",
    "\n",
    "# Add player names as x-labels, rotated for better readability\n",
    "plt.xticks(range(10), top_10_names, rotation=45, ha='right')\n",
    "\n",
    "# Adjust layout to prevent label cutoff\n",
    "plt.tight_layout()\n",
    "\n",
    "# Display the plot\n",
    "plt.show()"
   ]
  },
  {
   "cell_type": "code",
   "execution_count": 6,
   "metadata": {},
   "outputs": [
    {
     "data": {
      "text/plain": [
       "[<matplotlib.lines.Line2D at 0x127176710>]"
      ]
     },
     "execution_count": 6,
     "metadata": {},
     "output_type": "execute_result"
    },
    {
     "data": {
      "image/png": "[encoded data removed]",
      "text/plain": [
       "<Figure size 640x480 with 1 Axes>"
      ]
     },
     "metadata": {},
     "output_type": "display_data"
    }
   ],
   "source": [
    "# Code for plotting the autocorrelation function for player p\n",
    "p = 5\n",
    "autocor = np.zeros(10)\n",
    "for i in range(10):\n",
    "    autocor[i]=pandas.Series.autocorr(pandas.Series(skill_samples[p,:]),lag=i)\n",
    "plt.plot(autocor)"
   ]
  },
  {
   "cell_type": "markdown",
   "metadata": {},
   "source": [
    "# EP ranking"
   ]
  },
  {
   "cell_type": "code",
   "execution_count": 5,
   "metadata": {},
   "outputs": [],
   "source": [
    "num_iters = 3\n",
    "# run message passing algorithm, returns mean and precision for each player\n",
    "mean_player_skills, precision_player_skills = eprank(G, M, num_iters)"
   ]
  }
 ],
 "metadata": {
  "kernelspec": {
   "display_name": "venv",
   "language": "python",
   "name": "python3"
  },
  "language_info": {
   "codemirror_mode": {
    "name": "ipython",
    "version": 3
   },
   "file_extension": ".py",
   "mimetype": "text/x-python",
   "name": "python",
   "nbconvert_exporter": "python",
   "pygments_lexer": "ipython3",
   "version": "3.13.0"
  }
 },
 "nbformat": 4,
 "nbformat_minor": 2
}
